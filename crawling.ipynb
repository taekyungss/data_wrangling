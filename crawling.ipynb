{
  "nbformat": 4,
  "nbformat_minor": 0,
  "metadata": {
    "colab": {
      "private_outputs": true,
      "provenance": [],
      "authorship_tag": "ABX9TyMKf+8XEsv9TZFejYfjXBG/",
      "include_colab_link": true
    },
    "kernelspec": {
      "name": "python3",
      "display_name": "Python 3"
    },
    "language_info": {
      "name": "python"
    }
  },
  "cells": [
    {
      "cell_type": "markdown",
      "metadata": {
        "id": "view-in-github",
        "colab_type": "text"
      },
      "source": [
        "<a href=\"https://colab.research.google.com/github/taekyungss/data_wrangling/blob/main/crawling.ipynb\" target=\"_parent\"><img src=\"https://colab.research.google.com/assets/colab-badge.svg\" alt=\"Open In Colab\"/></a>"
      ]
    },
    {
      "cell_type": "code",
      "source": [
        "! pip install requests\n",
        "! pip install beautifulsoup4"
      ],
      "metadata": {
        "id": "wOy3yOSFJf5X"
      },
      "execution_count": null,
      "outputs": []
    },
    {
      "cell_type": "code",
      "execution_count": null,
      "metadata": {
        "id": "SPLEAVVqtg8H"
      },
      "outputs": [],
      "source": [
        "# 네이버 뉴스 1-10페이지 크롤링 후 csv파일 생성하기\n",
        "\n",
        "import requests\n",
        "from bs4 import BeautifulSoup\n",
        "import time"
      ]
    },
    {
      "cell_type": "code",
      "source": [
        "url = \"https://search.naver.com/search.naver?sm=tab_hty.top&where=news&query=%ED%8A%B9%EC%88%98%ED%95%99%EA%B5%90&oquery=%EB%A7%9B%EC%A7%91&tqi=hJQiElprvTVssPVwSGwssssstzK-045718\"\n",
        "r = requests.get(url)\n",
        "print(r)"
      ],
      "metadata": {
        "id": "Np7rQ8MjJU4j"
      },
      "execution_count": null,
      "outputs": []
    },
    {
      "cell_type": "code",
      "source": [
        "html = r.text\n",
        "soup = BeautifulSoup(html, \"html.parser\")"
      ],
      "metadata": {
        "id": "X_iZaM46Kxnh"
      },
      "execution_count": null,
      "outputs": []
    },
    {
      "cell_type": "code",
      "source": [
        "soup.find(\"a\",\"news_tit\" )"
      ],
      "metadata": {
        "id": "YLyIsMSyK94i"
      },
      "execution_count": null,
      "outputs": []
    },
    {
      "cell_type": "code",
      "source": [
        "[title['title'] for title in soup.find_all('a', attrs={'class':'news_tit'}) ]"
      ],
      "metadata": {
        "id": "ytjMayCHLC4x"
      },
      "execution_count": null,
      "outputs": []
    },
    {
      "cell_type": "code",
      "source": [
        "[ url['href'] for url in soup.find_all('a', attrs={'class':'news_tit'}) ]"
      ],
      "metadata": {
        "id": "N4_LnuJ8LHHB"
      },
      "execution_count": null,
      "outputs": []
    },
    {
      "cell_type": "code",
      "source": [],
      "metadata": {
        "id": "0hOu792kLK8B"
      },
      "execution_count": null,
      "outputs": []
    }
  ]
}