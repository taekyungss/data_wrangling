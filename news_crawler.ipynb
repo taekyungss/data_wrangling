{
  "nbformat": 4,
  "nbformat_minor": 0,
  "metadata": {
    "colab": {
      "private_outputs": true,
      "provenance": [],
      "authorship_tag": "ABX9TyPq2IYfOBdxnIWawB4/fvLm",
      "include_colab_link": true
    },
    "kernelspec": {
      "name": "python3",
      "display_name": "Python 3"
    },
    "language_info": {
      "name": "python"
    }
  },
  "cells": [
    {
      "cell_type": "markdown",
      "metadata": {
        "id": "view-in-github",
        "colab_type": "text"
      },
      "source": [
        "<a href=\"https://colab.research.google.com/github/taekyungss/data_wrangling/blob/main/news_crawler.ipynb\" target=\"_parent\"><img src=\"https://colab.research.google.com/assets/colab-badge.svg\" alt=\"Open In Colab\"/></a>"
      ]
    },
    {
      "cell_type": "markdown",
      "source": [
        "연습"
      ],
      "metadata": {
        "id": "0o831PCxhSR4"
      }
    },
    {
      "cell_type": "code",
      "execution_count": null,
      "metadata": {
        "id": "07QhXKzQd9sk"
      },
      "outputs": [],
      "source": [
        "from bs4 import BeautifulSoup\n",
        "\n",
        "#- HTML 문서를 문자열 html로 저장합니다.\n",
        "html = '''\n",
        "<html> \n",
        "    <head> \n",
        "    </head> \n",
        "    <body> \n",
        "        <h1> 장바구니\n",
        "            <p id='clothes' class='name' title='라운드티'> 라운드티\n",
        "                <span class = 'number'> 25 </span> \n",
        "                <span class = 'price'> 29000 </span> \n",
        "                <span class = 'menu'> 의류</span> \n",
        "                <a href = 'http://www.naver.com'> 바로가기 </a> \n",
        "            </p> \n",
        "            <p id='watch' class='name' title='시계'> 시계\n",
        "                <span class = 'number'> 28 </span>\n",
        "                <span class = 'price'> 32000 </span> \n",
        "                <span class = 'menu'> 악세서리 </span> \n",
        "                <a href = 'http://www.facebook.com'> 바로가기 </a> \n",
        "            </p> \n",
        "        </h1> \n",
        "    </body> \n",
        "</html>\n",
        "'''\n",
        "\n",
        "#- BeautifulSoup 인스턴스를 생성합니다.\n",
        "#- 두번째 매개변수는 분석할 분석기(parser)의 종류입니다.\n",
        "soup = BeautifulSoup(html, 'html.parser')"
      ]
    },
    {
      "cell_type": "code",
      "source": [
        "print(soup.select(\"body\"))"
      ],
      "metadata": {
        "id": "EyHCfzHAgm1_"
      },
      "execution_count": null,
      "outputs": []
    },
    {
      "cell_type": "code",
      "source": [
        "print(soup.select(\"p\"))"
      ],
      "metadata": {
        "id": "2UWipHJkgtp2"
      },
      "execution_count": null,
      "outputs": []
    },
    {
      "cell_type": "code",
      "source": [
        "print(soup.select(\"h1 .name .menu\"))"
      ],
      "metadata": {
        "id": "G3J5-FfngwwO"
      },
      "execution_count": null,
      "outputs": []
    },
    {
      "cell_type": "code",
      "source": [
        "print(soup.select('html h1'))"
      ],
      "metadata": {
        "id": "u2jUVZDShAle"
      },
      "execution_count": null,
      "outputs": []
    },
    {
      "cell_type": "markdown",
      "source": [
        "newspaper3k 패키지\n",
        "\n",
        "\n",
        "newspaper3k 는 뉴스 데이터를 크롤링하기 위해 만들어진 패키지입니다. \n",
        "\n",
        "사용자가 뉴스 기사의 URL을 전달해주면, 이로부터 뉴스 기사의 제목과 텍스트를 추출할 수 있습니다."
      ],
      "metadata": {
        "id": "V_Sxir5MhaGK"
      }
    },
    {
      "cell_type": "code",
      "source": [],
      "metadata": {
        "id": "Qox8ZBq9hO3l"
      },
      "execution_count": null,
      "outputs": []
    }
  ]
}