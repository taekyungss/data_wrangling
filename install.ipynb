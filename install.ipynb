{
  "nbformat": 4,
  "nbformat_minor": 0,
  "metadata": {
    "colab": {
      "private_outputs": true,
      "provenance": [],
      "authorship_tag": "ABX9TyPLDMAqmaEH2vrAwUxPNhs5",
      "include_colab_link": true
    },
    "kernelspec": {
      "name": "python3",
      "display_name": "Python 3"
    },
    "language_info": {
      "name": "python"
    }
  },
  "cells": [
    {
      "cell_type": "markdown",
      "metadata": {
        "id": "view-in-github",
        "colab_type": "text"
      },
      "source": [
        "<a href=\"https://colab.research.google.com/github/taekyungss/data_wrangling/blob/main/install.ipynb\" target=\"_parent\"><img src=\"https://colab.research.google.com/assets/colab-badge.svg\" alt=\"Open In Colab\"/></a>"
      ]
    },
    {
      "cell_type": "code",
      "execution_count": null,
      "metadata": {
        "id": "8OMyDZI_XjQH"
      },
      "outputs": [],
      "source": [
        "import os\n",
        "# install konlpy, jdk, JPype\n",
        "!pip install konlpy\n",
        "!apt-get install openjdk-8-jdk-headless -qq > /dev/null\n",
        "!pip3 install JPype1-py3\n",
        "\n",
        "# install mecab-ko\n",
        "os.chdir('/tmp/')\n",
        "!curl -LO https://bitbucket.org/eunjeon/mecab-ko/downloads/mecab-0.996-ko-0.9.2.tar.gz\n",
        "!tar zxfv mecab-0.996-ko-0.9.2.tar.gz\n",
        "os.chdir('/tmp/mecab-0.996-ko-0.9.2')\n",
        "!./configure\n",
        "!make\n",
        "!make check\n",
        "!make install\n",
        "\n",
        "# install mecab-ko-dic\n",
        "!apt-get install automake\n",
        "os.chdir('/tmp')\n",
        "!curl -LO https://bitbucket.org/eunjeon/mecab-ko-dic/downloads/mecab-ko-dic-2.1.1-20180720.tar.gz\n",
        "!tar -zxvf mecab-ko-dic-2.1.1-20180720.tar.gz\n",
        "os.chdir('/tmp/mecab-ko-dic-2.1.1-20180720')\n",
        "!./autogen.sh\n",
        "!./configure\n",
        "!make\n",
        "!make install\n",
        "\n",
        "# install mecab-python\n",
        "os.chdir('/content')\n",
        "!git clone https://bitbucket.org/eunjeon/mecab-python-0.996.git\n",
        "os.chdir('/content/mecab-python-0.996')\n",
        "!python3 setup.py build\n",
        "!python3 setup.py install"
      ]
    },
    {
      "cell_type": "code",
      "source": [
        "!pip install beautifulsoup4\n",
        "!pip install newspaper3k\n",
        "!pip install konlpy"
      ],
      "metadata": {
        "id": "AJ7ko25vZXZn"
      },
      "execution_count": null,
      "outputs": []
    },
    {
      "cell_type": "code",
      "source": [],
      "metadata": {
        "id": "9SwkLXrjZiA2"
      },
      "execution_count": null,
      "outputs": []
    }
  ]
}